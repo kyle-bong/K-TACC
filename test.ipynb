{
 "cells": [
  {
   "cell_type": "code",
   "execution_count": null,
   "metadata": {},
   "outputs": [
    {
     "ename": "",
     "evalue": "",
     "output_type": "error",
     "traceback": [
      "\u001b[1;31mFailed to start the Kernel. \n",
      "\u001b[1;31mView Jupyter <a href='command:jupyter.viewOutput'>log</a> for further details."
     ]
    }
   ],
   "source": [
    "from BERT_augmentation import BERT_Augmentation"
   ]
  },
  {
   "cell_type": "code",
   "execution_count": null,
   "metadata": {},
   "outputs": [],
   "source": []
  }
 ],
 "metadata": {
  "kernelspec": {
   "display_name": "data",
   "language": "python",
   "name": "data"
  },
  "orig_nbformat": 4,
  "vscode": {
   "interpreter": {
    "hash": "453e7ba0431a1f965429b96a03a1d5546248e001661d541f6bea069f7abcbd9e"
   }
  }
 },
 "nbformat": 4,
 "nbformat_minor": 2
}
