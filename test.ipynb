{
 "cells": [
  {
   "cell_type": "code",
   "execution_count": 1,
   "id": "3f6d8273-0de9-48e7-ab4f-c2e5638bb669",
   "metadata": {},
   "outputs": [
    {
     "name": "stderr",
     "output_type": "stream",
     "text": [
      "/home/bs/anaconda3/envs/ktacc/lib/python3.11/site-packages/tqdm/auto.py:21: TqdmWarning: IProgress not found. Please update jupyter and ipywidgets. See https://ipywidgets.readthedocs.io/en/stable/user_install.html\n",
      "  from .autonotebook import tqdm as notebook_tqdm\n",
      "2024-10-18 13:31:01.577300: I tensorflow/core/util/port.cc:153] oneDNN custom operations are on. You may see slightly different numerical results due to floating-point round-off errors from different computation orders. To turn them off, set the environment variable `TF_ENABLE_ONEDNN_OPTS=0`.\n",
      "2024-10-18 13:31:01.857019: E external/local_xla/xla/stream_executor/cuda/cuda_fft.cc:485] Unable to register cuFFT factory: Attempting to register factory for plugin cuFFT when one has already been registered\n",
      "2024-10-18 13:31:01.974750: E external/local_xla/xla/stream_executor/cuda/cuda_dnn.cc:8454] Unable to register cuDNN factory: Attempting to register factory for plugin cuDNN when one has already been registered\n",
      "2024-10-18 13:31:02.011568: E external/local_xla/xla/stream_executor/cuda/cuda_blas.cc:1452] Unable to register cuBLAS factory: Attempting to register factory for plugin cuBLAS when one has already been registered\n",
      "2024-10-18 13:31:02.239207: I tensorflow/core/platform/cpu_feature_guard.cc:210] This TensorFlow binary is optimized to use available CPU instructions in performance-critical operations.\n",
      "To enable the following instructions: AVX2 AVX512F AVX512_VNNI FMA, in other operations, rebuild TensorFlow with the appropriate compiler flags.\n",
      "2024-10-18 13:31:04.467982: W tensorflow/compiler/tf2tensorrt/utils/py_utils.cc:38] TF-TRT Warning: Could not find TensorRT\n"
     ]
    }
   ],
   "source": [
    "import pandas as pd\n",
    "from utils.BertAugmentation import BertAugmentation\n",
    "from utils.adverb_augmentation import AdverbAugmentation\n",
    "import transformers"
   ]
  },
  {
   "cell_type": "code",
   "execution_count": 2,
   "id": "98f6be27-3445-4bdd-ba5a-e29f06498477",
   "metadata": {},
   "outputs": [],
   "source": [
    "BERT_aug = BertAugmentation()\n",
    "random_masking_replacement = BERT_aug.random_masking_replacement\n",
    "random_masking_insertion = BERT_aug.random_masking_insertion"
   ]
  },
  {
   "cell_type": "code",
   "execution_count": 3,
   "id": "59d6ed1d-4141-4fc3-82f1-3a57cb2bb5e8",
   "metadata": {},
   "outputs": [],
   "source": [
    "adverb_aug = AdverbAugmentation()\n",
    "adverb_gloss_replacement = adverb_aug.adverb_gloss_replacement"
   ]
  },
  {
   "cell_type": "markdown",
   "id": "7237afb4-e905-42ab-9e35-4e99242b4ba8",
   "metadata": {},
   "source": [
    "## BERT augmentation"
   ]
  },
  {
   "cell_type": "code",
   "execution_count": 6,
   "id": "8c81422c-9f0c-4965-ad4c-571af4304fbd",
   "metadata": {},
   "outputs": [],
   "source": [
    "sentence = \"아버지가 오늘 아침에 부엌에 있었다가 갑자기 일어나시더니 슬그머니 안방으로 들어가셨다.\"\n",
    "ratio = 0.15"
   ]
  },
  {
   "cell_type": "code",
   "execution_count": null,
   "id": "960cc219-aa14-44f9-a1fb-494c3c3617d4",
   "metadata": {},
   "outputs": [],
   "source": [
    "print('random_masking_replacement:', random_masking_replacement(sentence, ratio))\n",
    "print('random_insertion_replacement:', random_masking_insertion(sentence, ratio))"
   ]
  },
  {
   "cell_type": "markdown",
   "id": "c079b51c-400b-4773-a84b-cfc1219146a9",
   "metadata": {},
   "source": [
    "## Adverb augmentation"
   ]
  },
  {
   "cell_type": "code",
   "execution_count": null,
   "id": "240f6edc",
   "metadata": {},
   "outputs": [],
   "source": [
    "from quickspacer import Spacer\n",
    "spacer = Spacer()\n",
    "spacer.space(['생각할겨를도없이빨리'])"
   ]
  },
  {
   "cell_type": "code",
   "execution_count": 5,
   "id": "802c3abd-ed68-4a3d-a1c9-a4401da7fbb5",
   "metadata": {},
   "outputs": [],
   "source": [
    "sentence = \"아버지가 부엌에 있었다가 갑자기 일어나시더니 슬그머니 안방으로 들어가셨다.\""
   ]
  },
  {
   "cell_type": "code",
   "execution_count": null,
   "id": "bd28e530-228c-4598-b2aa-23d6dc74beb3",
   "metadata": {},
   "outputs": [],
   "source": [
    "adverb_gloss_replacement(sentence)"
   ]
  },
  {
   "cell_type": "code",
   "execution_count": null,
   "id": "e33b100e",
   "metadata": {},
   "outputs": [],
   "source": []
  },
  {
   "cell_type": "markdown",
   "id": "04527424-83ab-453c-816d-81b015ae3f94",
   "metadata": {},
   "source": [
    "## 기존 EDA 방법 (KorEDA)\n",
    "- random_delete\n",
    "- random_swap\n",
    "- synonym_replacement\n",
    "- random_insert"
   ]
  },
  {
   "cell_type": "code",
   "execution_count": 8,
   "id": "dbfa8c99-c85f-44b2-8433-e0b0a88a4f30",
   "metadata": {},
   "outputs": [],
   "source": [
    "from utils.koreda import synonym_replacement, random_deletion, random_swap, random_insertion"
   ]
  },
  {
   "cell_type": "code",
   "execution_count": 9,
   "id": "d12240c6-73e9-4f98-89f3-e30224468d7c",
   "metadata": {},
   "outputs": [],
   "source": [
    "sentence = \"이순신은 조선 중기의 매우 뛰어난 전략가이자 용맹한 무신이다.\""
   ]
  },
  {
   "cell_type": "code",
   "execution_count": null,
   "id": "793ff40c-cb1f-45a4-8bac-caaaa49cf77f",
   "metadata": {},
   "outputs": [],
   "source": [
    "print('synonym_replacement: ', \" \".join(synonym_replacement(sentence.split(), 1)))\n",
    "print('random_deletion: ', \" \".join(random_deletion(sentence.split(), 0.15)))\n",
    "print('random_swap: ', \" \".join(random_swap(sentence.split(), 1)))\n",
    "print('random_insertion: ', \" \".join(random_insertion(sentence.split(), 1)))"
   ]
  },
  {
   "cell_type": "markdown",
   "id": "1a6c97ad-d568-43e6-a092-869b7b00dc79",
   "metadata": {},
   "source": [
    "## AEDA"
   ]
  },
  {
   "cell_type": "code",
   "execution_count": 11,
   "id": "aabe5ef2-4e37-481b-ab85-3a3856d638b3",
   "metadata": {},
   "outputs": [],
   "source": [
    "from utils.aeda import aeda"
   ]
  },
  {
   "cell_type": "code",
   "execution_count": 12,
   "id": "e0a80bbf-6105-4b0a-bc5d-ec903e33bc1d",
   "metadata": {},
   "outputs": [],
   "source": [
    "sentence = \"이순신은 조선 중기의 매우 뛰어난 전략가이자 용맹한 무신이다.\""
   ]
  },
  {
   "cell_type": "code",
   "execution_count": null,
   "id": "83a05672-0e90-4de2-8f51-dbf4ed17c8be",
   "metadata": {},
   "outputs": [],
   "source": [
    "print('aeda: ', aeda(sentence))"
   ]
  },
  {
   "cell_type": "markdown",
   "id": "2abec7f9",
   "metadata": {},
   "source": [
    "# Gemini 1.5 flash"
   ]
  },
  {
   "cell_type": "code",
   "execution_count": 1,
   "id": "62dbf6a4",
   "metadata": {},
   "outputs": [
    {
     "name": "stderr",
     "output_type": "stream",
     "text": [
      "/home/bs/anaconda3/envs/ktacc/lib/python3.11/site-packages/tqdm/auto.py:21: TqdmWarning: IProgress not found. Please update jupyter and ipywidgets. See https://ipywidgets.readthedocs.io/en/stable/user_install.html\n",
      "  from .autonotebook import tqdm as notebook_tqdm\n"
     ]
    }
   ],
   "source": [
    "from utils.LLM_augmentation import LlmAugmentation"
   ]
  },
  {
   "cell_type": "code",
   "execution_count": 2,
   "id": "7fcdc46f",
   "metadata": {},
   "outputs": [],
   "source": [
    "llm_aug = LlmAugmentation()"
   ]
  },
  {
   "cell_type": "code",
   "execution_count": 3,
   "id": "d5623274",
   "metadata": {},
   "outputs": [],
   "source": [
    "sentences = \\\n",
    "[\n",
    "    \"이순신은 조선 중기의 매우 뛰어난 전략가이자 용맹한 무신이다.\",\n",
    "    \"하늘을 우러러 한 점 부끄럼 없기를\",\n",
    "    \"꽁꽁 얼어붙은 한강 위로 고양이가 걸어다닙니다\",\n",
    "    \"암세포도 생명이야...!\",\n",
    "    \"겨울은 강철로 된 무지개인가 보다.\",\n",
    "    \"나랑 별 보러 가지 않을래?\",\n",
    "    \"피할 수 없다면 즐겨라.\",\n",
    "    \"인생은 멀리서 보면 희극, 가까이서 보면 비극\",\n",
    "    \"그래도 지구는 돈다.\",\n",
    "    \"하루하루는 열심히 인생은 대충대충\",\n",
    "    \"고딩 친구 = 평생 친구\",\n",
    "    \"롤 한판 하쉴?\",\n",
    "    \"365에 13을 더하면?\",\n",
    "    \"1995년 12월 23일은 철수의 생일이다.\"\n",
    "]\n",
    "\n",
    "paraphrased_sentences = llm_aug.generate_paraphrased_sentence(sentences)"
   ]
  },
  {
   "cell_type": "code",
   "execution_count": 4,
   "id": "9c5825d8",
   "metadata": {},
   "outputs": [
    {
     "data": {
      "text/plain": [
       "['이순신 장군은 조선 중기 최고의 전략가이자 용맹한 무장으로 손꼽힌다.',\n",
       " '하늘에 부끄러울 일이 없도록 살자.',\n",
       " '꽁꽁 언 한강 위를 고양이가 걸어 다니는 진풍경이 펼쳐진다.',\n",
       " '암세포도 생명의 한 형태이다.',\n",
       " '겨울은 마치 강철로 만든 무지개처럼 차가운 아름다움을 지닌다.',\n",
       " '함께 밤하늘의 별을 보러 가지 않겠어?',\n",
       " '피할 수 없다면 즐겁게 받아들이자.',\n",
       " '인생은 멀리서 보면 희극처럼 보이지만, 가까이서 보면 비극처럼 느껴진다.',\n",
       " '그래도 지구는 끊임없이 자전하고 있다.',\n",
       " '하루하루는 최선을 다하고, 인생은 좀 느긋하게 살자.',\n",
       " '고등학교 친구는 평생을 함께하는 소중한 인연이다.',\n",
       " '롤 한 게임 같이 할래?',\n",
       " '365에 13을 더하면 378이 됩니다.',\n",
       " '철수의 생일은 1995년 12월 23일이다.']"
      ]
     },
     "execution_count": 4,
     "metadata": {},
     "output_type": "execute_result"
    }
   ],
   "source": [
    "paraphrased_sentences"
   ]
  }
 ],
 "metadata": {
  "kernelspec": {
   "display_name": "ktacc",
   "language": "python",
   "name": "python3"
  },
  "language_info": {
   "codemirror_mode": {
    "name": "ipython",
    "version": 3
   },
   "file_extension": ".py",
   "mimetype": "text/x-python",
   "name": "python",
   "nbconvert_exporter": "python",
   "pygments_lexer": "ipython3",
   "version": "3.11.10"
  }
 },
 "nbformat": 4,
 "nbformat_minor": 5
}
