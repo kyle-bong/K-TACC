{
 "cells": [
  {
   "cell_type": "code",
   "execution_count": 1,
   "id": "3f6d8273-0de9-48e7-ab4f-c2e5638bb669",
   "metadata": {},
   "outputs": [
    {
     "name": "stderr",
     "output_type": "stream",
     "text": [
      "/opt/conda/envs/aug/lib/python3.10/site-packages/tqdm/auto.py:21: TqdmWarning: IProgress not found. Please update jupyter and ipywidgets. See https://ipywidgets.readthedocs.io/en/stable/user_install.html\n",
      "  from .autonotebook import tqdm as notebook_tqdm\n",
      "2023-06-04 08:50:02.855043: I tensorflow/tsl/cuda/cudart_stub.cc:28] Could not find cuda drivers on your machine, GPU will not be used.\n",
      "2023-06-04 08:50:02.907974: I tensorflow/tsl/cuda/cudart_stub.cc:28] Could not find cuda drivers on your machine, GPU will not be used.\n",
      "2023-06-04 08:50:02.909072: I tensorflow/core/platform/cpu_feature_guard.cc:182] This TensorFlow binary is optimized to use available CPU instructions in performance-critical operations.\n",
      "To enable the following instructions: AVX2 FMA, in other operations, rebuild TensorFlow with the appropriate compiler flags.\n",
      "2023-06-04 08:50:03.799033: W tensorflow/compiler/tf2tensorrt/utils/py_utils.cc:38] TF-TRT Warning: Could not find TensorRT\n",
      "2023-06-04 08:50:04.571191: I tensorflow/compiler/xla/stream_executor/cuda/cuda_gpu_executor.cc:996] successful NUMA node read from SysFS had negative value (-1), but there must be at least one NUMA node, so returning NUMA node zero. See more at https://github.com/torvalds/linux/blob/v6.0/Documentation/ABI/testing/sysfs-bus-pci#L344-L355\n",
      "2023-06-04 08:50:04.572522: W tensorflow/core/common_runtime/gpu/gpu_device.cc:1956] Cannot dlopen some GPU libraries. Please make sure the missing libraries mentioned above are installed properly if you would like to use GPU. Follow the guide at https://www.tensorflow.org/install/gpu for how to download and setup the required libraries for your platform.\n",
      "Skipping registering GPU devices...\n"
     ]
    }
   ],
   "source": [
    "import pandas as pd\n",
    "from BERT_augmentation import BERT_Augmentation\n",
    "from adverb_augmentation import AdverbAugmentation\n",
    "import transformers"
   ]
  },
  {
   "cell_type": "code",
   "execution_count": 3,
   "id": "98f6be27-3445-4bdd-ba5a-e29f06498477",
   "metadata": {},
   "outputs": [],
   "source": [
    "BERT_aug = BERT_Augmentation()\n",
    "random_masking_replacement = BERT_aug.random_masking_replacement\n",
    "random_masking_insertion = BERT_aug.random_masking_insertion"
   ]
  },
  {
   "cell_type": "code",
   "execution_count": 4,
   "id": "59d6ed1d-4141-4fc3-82f1-3a57cb2bb5e8",
   "metadata": {},
   "outputs": [],
   "source": [
    "adverb_aug = AdverbAugmentation()\n",
    "adverb_gloss_replacement = adverb_aug.adverb_gloss_replacement"
   ]
  },
  {
   "cell_type": "markdown",
   "id": "7237afb4-e905-42ab-9e35-4e99242b4ba8",
   "metadata": {},
   "source": [
    "## BERT augmentation"
   ]
  },
  {
   "cell_type": "code",
   "execution_count": 6,
   "id": "8c81422c-9f0c-4965-ad4c-571af4304fbd",
   "metadata": {},
   "outputs": [],
   "source": [
    "sentence = \"아버지가 오늘 아침에 부엌에 있었다가 갑자기 일어나시더니 슬그머니 안방으로 들어가셨다.\"\n",
    "span_ratio = 0.15"
   ]
  },
  {
   "cell_type": "code",
   "execution_count": 9,
   "id": "960cc219-aa14-44f9-a1fb-494c3c3617d4",
   "metadata": {},
   "outputs": [
    {
     "name": "stdout",
     "output_type": "stream",
     "text": [
      "random_masking_replacement: 아버지가 오늘은 부엌에 있었다가 갑자기 일어나 슬그머니 안방으로 들어가셨다.\n",
      "random_insertion_replacement: 그런데 아버지가 오늘 아침에 부엌에 있었다가 갑자기 벌떡 일어나시더니 슬그머니 안방으로 들어가셨다.\n"
     ]
    }
   ],
   "source": [
    "print('random_masking_replacement:', random_masking_replacement(sentence, span_ratio))\n",
    "print('random_insertion_replacement:', random_masking_insertion(sentence, span_ratio))"
   ]
  },
  {
   "cell_type": "markdown",
   "id": "c079b51c-400b-4773-a84b-cfc1219146a9",
   "metadata": {},
   "source": [
    "## Adverb augmentation"
   ]
  },
  {
   "cell_type": "code",
   "execution_count": 52,
   "id": "802c3abd-ed68-4a3d-a1c9-a4401da7fbb5",
   "metadata": {},
   "outputs": [],
   "source": [
    "sentence = \"아버지가 부엌에 있었다가 갑자기 일어나시더니 슬그머니 안방으로 들어가셨다.\""
   ]
  },
  {
   "cell_type": "code",
   "execution_count": 53,
   "id": "bd28e530-228c-4598-b2aa-23d6dc74beb3",
   "metadata": {},
   "outputs": [
    {
     "data": {
      "text/plain": [
       "'아버지가 부엌에 있었다가 생각할 겨를도 없이 빨리 일어나시더니 슬그머니 안방으로 들어가셨다.'"
      ]
     },
     "execution_count": 53,
     "metadata": {},
     "output_type": "execute_result"
    }
   ],
   "source": [
    "adverb_gloss_replacement(sentence)"
   ]
  },
  {
   "cell_type": "markdown",
   "id": "04527424-83ab-453c-816d-81b015ae3f94",
   "metadata": {},
   "source": [
    "## 기존 EDA 방법 (KorEDA)\n",
    "- random_delete\n",
    "- random_swap\n",
    "- synonym_replacement\n",
    "- random_insert"
   ]
  },
  {
   "cell_type": "code",
   "execution_count": 183,
   "id": "dbfa8c99-c85f-44b2-8433-e0b0a88a4f30",
   "metadata": {},
   "outputs": [],
   "source": [
    "from koreda import synonym_replacement, random_deletion, random_swap, random_insertion"
   ]
  },
  {
   "cell_type": "code",
   "execution_count": 864,
   "id": "d12240c6-73e9-4f98-89f3-e30224468d7c",
   "metadata": {},
   "outputs": [],
   "source": [
    "sentence = \"이순신은 조선 중기의 매우 뛰어난 전략가이자 용맹한 무신이다.\""
   ]
  },
  {
   "cell_type": "code",
   "execution_count": 865,
   "id": "793ff40c-cb1f-45a4-8bac-caaaa49cf77f",
   "metadata": {},
   "outputs": [
    {
     "name": "stdout",
     "output_type": "stream",
     "text": [
      "synonym_replacement:  이순신은 조선 중기의 매우 뛰어난 전략가이자 용맹한 무신이다.\n",
      "random_deletion:  이순신은 조선 중기의 매우 전략가이자 용맹한 무신이다.\n",
      "random_swap:  이순신은 조선 무신이다. 매우 뛰어난 전략가이자 용맹한 중기의\n",
      "random_insertion:  이순신은 조선 중기의 매우 뛰어난 전략가이자 용맹한 무신이다.\n"
     ]
    }
   ],
   "source": [
    "print('synonym_replacement: ', \" \".join(synonym_replacement(sentence.split(), 1)))\n",
    "print('random_deletion: ', \" \".join(random_deletion(sentence.split(), 0.15)))\n",
    "print('random_swap: ', \" \".join(random_swap(sentence.split(), 1)))\n",
    "print('random_insertion: ', \" \".join(random_insertion(sentence.split(), 1)))"
   ]
  },
  {
   "cell_type": "markdown",
   "id": "1a6c97ad-d568-43e6-a092-869b7b00dc79",
   "metadata": {},
   "source": [
    "## AEDA"
   ]
  },
  {
   "cell_type": "code",
   "execution_count": 867,
   "id": "aabe5ef2-4e37-481b-ab85-3a3856d638b3",
   "metadata": {},
   "outputs": [],
   "source": [
    "from aeda import aeda"
   ]
  },
  {
   "cell_type": "code",
   "execution_count": 868,
   "id": "e0a80bbf-6105-4b0a-bc5d-ec903e33bc1d",
   "metadata": {},
   "outputs": [],
   "source": [
    "sentence = \"이순신은 조선 중기의 매우 뛰어난 전략가이자 용맹한 무신이다.\""
   ]
  },
  {
   "cell_type": "code",
   "execution_count": 877,
   "id": "83a05672-0e90-4de2-8f51-dbf4ed17c8be",
   "metadata": {},
   "outputs": [
    {
     "name": "stdout",
     "output_type": "stream",
     "text": [
      "aeda:  ! 이순신은 . 조선 중기의 매우 뛰어난 전략가이자 용맹한 무신이다.\n"
     ]
    }
   ],
   "source": [
    "print('aeda: ', aeda(sentence))"
   ]
  },
  {
   "cell_type": "markdown",
   "id": "2251fec3-5f03-4fa9-b2b9-c6c22e2c94f1",
   "metadata": {},
   "source": [
    "## dataset의 크기"
   ]
  },
  {
   "cell_type": "code",
   "execution_count": 68,
   "id": "86df2c23-88cf-4fd5-a26f-83b7541124cb",
   "metadata": {},
   "outputs": [
    {
     "name": "stdout",
     "output_type": "stream",
     "text": [
      "11668\n"
     ]
    }
   ],
   "source": [
    "# dataset\n",
    "orig_train = pd.read_json('sts/datasets/klue-sts-v1.1_train.json')\n",
    "print(len(orig_train))"
   ]
  },
  {
   "cell_type": "code",
   "execution_count": 79,
   "id": "a4cad170-2918-46d7-af3c-82c19a093fe6",
   "metadata": {},
   "outputs": [
    {
     "name": "stdout",
     "output_type": "stream",
     "text": [
      "22945\n"
     ]
    }
   ],
   "source": [
    "random_masking_replacement_train = pd.read_json('sts/datasets/klue-sts-v1.1_train_random_masking_replacement_augset_span_0.15.json')\n",
    "print(len(random_masking_replacement_train))"
   ]
  },
  {
   "cell_type": "code",
   "execution_count": 80,
   "id": "d07977a9-e48d-46ba-9009-bf9f67af5f6d",
   "metadata": {},
   "outputs": [
    {
     "name": "stdout",
     "output_type": "stream",
     "text": [
      "23116\n"
     ]
    }
   ],
   "source": [
    "random_masking_insertion_train = pd.read_json('sts/datasets/klue-sts-v1.1_train_random_masking_insertion_augset_span_0.15.json')\n",
    "print(len(random_masking_insertion_train))"
   ]
  },
  {
   "cell_type": "code",
   "execution_count": 81,
   "id": "513e42a0-7457-4617-be76-0fd10cf1148e",
   "metadata": {},
   "outputs": [
    {
     "name": "stdout",
     "output_type": "stream",
     "text": [
      "20459\n"
     ]
    }
   ],
   "source": [
    "adverb_train = pd.read_json('sts/datasets/klue-sts-v1.1_train_adverb_augset.json')\n",
    "print(len(adverb_train))"
   ]
  },
  {
   "cell_type": "code",
   "execution_count": 82,
   "id": "2306e333-7fd0-4e59-a218-c1b75a650d13",
   "metadata": {},
   "outputs": [
    {
     "name": "stdout",
     "output_type": "stream",
     "text": [
      "18115\n"
     ]
    }
   ],
   "source": [
    "sr_train = pd.read_json('sts/datasets/klue-sts-v1.1_train_sr_augset.json')\n",
    "print(len(sr_train))"
   ]
  },
  {
   "cell_type": "code",
   "execution_count": 83,
   "id": "1401c028-96d1-434f-ad79-f9f1e74a1947",
   "metadata": {},
   "outputs": [
    {
     "name": "stdout",
     "output_type": "stream",
     "text": [
      "23327\n"
     ]
    }
   ],
   "source": [
    "rs_train = pd.read_json('sts/datasets/klue-sts-v1.1_train_rs_augset.json')\n",
    "print(len(rs_train))"
   ]
  },
  {
   "cell_type": "code",
   "execution_count": 84,
   "id": "c6e481fb-80ba-424c-b4fa-d3f944e495ab",
   "metadata": {},
   "outputs": [
    {
     "name": "stdout",
     "output_type": "stream",
     "text": [
      "22122\n"
     ]
    }
   ],
   "source": [
    "rd_train = pd.read_json('sts/datasets/klue-sts-v1.1_train_rd_augset.json')\n",
    "print(len(rd_train))"
   ]
  },
  {
   "cell_type": "code",
   "execution_count": 75,
   "id": "6fca6408-8e87-422e-8235-d5c964d71edc",
   "metadata": {},
   "outputs": [
    {
     "name": "stdout",
     "output_type": "stream",
     "text": [
      "18464\n"
     ]
    }
   ],
   "source": [
    "ri_train = pd.read_json('sts/datasets/klue-sts-v1.1_train_ri_augset.json')\n",
    "print(len(ri_train))"
   ]
  },
  {
   "cell_type": "code",
   "execution_count": 76,
   "id": "89260947-7350-46b9-96fa-e55e160efedb",
   "metadata": {},
   "outputs": [
    {
     "name": "stdout",
     "output_type": "stream",
     "text": [
      "23329\n"
     ]
    }
   ],
   "source": [
    "aeda_train = pd.read_json('sts/datasets/klue-sts-v1.1_train_aeda_augset.json')\n",
    "print(len(aeda_train))"
   ]
  },
  {
   "cell_type": "code",
   "execution_count": null,
   "id": "009e7b6c-3283-4bb4-9efd-d1a662792af9",
   "metadata": {},
   "outputs": [],
   "source": []
  }
 ],
 "metadata": {
  "kernelspec": {
   "display_name": "aug",
   "language": "python",
   "name": "aug"
  },
  "language_info": {
   "codemirror_mode": {
    "name": "ipython",
    "version": 3
   },
   "file_extension": ".py",
   "mimetype": "text/x-python",
   "name": "python",
   "nbconvert_exporter": "python",
   "pygments_lexer": "ipython3",
   "version": "3.10.11"
  }
 },
 "nbformat": 4,
 "nbformat_minor": 5
}
